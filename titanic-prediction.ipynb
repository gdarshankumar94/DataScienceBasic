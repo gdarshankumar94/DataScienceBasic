{
 "cells": [
  {
   "cell_type": "code",
   "execution_count": 1,
   "id": "4d3c9dd0",
   "metadata": {
    "_cell_guid": "b1076dfc-b9ad-4769-8c92-a6c4dae69d19",
    "_uuid": "8f2839f25d086af736a60e9eeb907d3b93b6e0e5",
    "execution": {
     "iopub.execute_input": "2022-08-31T10:02:44.685081Z",
     "iopub.status.busy": "2022-08-31T10:02:44.684627Z",
     "iopub.status.idle": "2022-08-31T10:02:44.699703Z",
     "shell.execute_reply": "2022-08-31T10:02:44.698329Z"
    },
    "papermill": {
     "duration": 0.024674,
     "end_time": "2022-08-31T10:02:44.702273",
     "exception": false,
     "start_time": "2022-08-31T10:02:44.677599",
     "status": "completed"
    },
    "tags": []
   },
   "outputs": [
    {
     "name": "stdout",
     "output_type": "stream",
     "text": [
      "/kaggle/input/titanic/train.csv\n",
      "/kaggle/input/titanic/test.csv\n",
      "/kaggle/input/titanic/gender_submission.csv\n"
     ]
    }
   ],
   "source": [
    "# This Python 3 environment comes with many helpful analytics libraries installed\n",
    "# It is defined by the kaggle/python Docker image: https://github.com/kaggle/docker-python\n",
    "# For example, here's several helpful packages to load\n",
    "\n",
    "import numpy as np # linear algebra\n",
    "import pandas as pd # data processing, CSV file I/O (e.g. pd.read_csv)\n",
    "\n",
    "# Input data files are available in the read-only \"../input/\" directory\n",
    "# For example, running this (by clicking run or pressing Shift+Enter) will list all files under the input directory\n",
    "\n",
    "import os\n",
    "for dirname, _, filenames in os.walk('/kaggle/input'):\n",
    "    for filename in filenames:\n",
    "        print(os.path.join(dirname, filename))\n",
    "\n",
    "# You can write up to 20GB to the current directory (/kaggle/working/) that gets preserved as output when you create a version using \"Save & Run All\" \n",
    "# You can also write temporary files to /kaggle/temp/, but they won't be saved outside of the current session"
   ]
  },
  {
   "cell_type": "code",
   "execution_count": null,
   "id": "dbca29f9",
   "metadata": {
    "papermill": {
     "duration": 0.003593,
     "end_time": "2022-08-31T10:02:44.710141",
     "exception": false,
     "start_time": "2022-08-31T10:02:44.706548",
     "status": "completed"
    },
    "tags": []
   },
   "outputs": [],
   "source": []
  },
  {
   "cell_type": "code",
   "execution_count": 2,
   "id": "d41a9e59",
   "metadata": {
    "execution": {
     "iopub.execute_input": "2022-08-31T10:02:44.719665Z",
     "iopub.status.busy": "2022-08-31T10:02:44.718846Z",
     "iopub.status.idle": "2022-08-31T10:02:44.764708Z",
     "shell.execute_reply": "2022-08-31T10:02:44.763592Z"
    },
    "papermill": {
     "duration": 0.053418,
     "end_time": "2022-08-31T10:02:44.767338",
     "exception": false,
     "start_time": "2022-08-31T10:02:44.713920",
     "status": "completed"
    },
    "tags": []
   },
   "outputs": [],
   "source": [
    "# Data Collection Reading Testdata and Train Data\n",
    "\n",
    "titanic_data_train = pd.read_csv('/kaggle/input/titanic/train.csv')\n",
    "titanic_data_test = pd.read_csv('/kaggle/input/titanic/test.csv')\n",
    "\n",
    "\n",
    "# Data Analysis of Train Data\n",
    "\n",
    "titanic_data_train.head()\n",
    "\n",
    "\n",
    "#Data Wrangling Checking and Removing Unwanted Data and Null Values\n",
    "#PassengerID, Name , Ticket,Fare, Cabin , Cab be removed as Cabin has Null values\n",
    "#Out of 891 entries 687 have null values\n",
    "\n",
    "titanic_data_train['Cabin'].isnull().sum()\n",
    "\n",
    "titanic_data_train = titanic_data_train.drop(['Cabin','Name','Age','Ticket','Fare','Embarked','Pclass','SibSp','Parch','PassengerId'],axis=1)\n",
    "\n",
    "#titanic_data_train = pd.get_dummies(titanic_data_train,columns=['Sex'])\n",
    "\n",
    "\n",
    "titanic_data_train.Sex = [ 1 if each == 'male' else 0 for each in titanic_data_train.Sex]\n",
    "\n",
    "X_train = titanic_data_train.drop(['Survived'], axis=1)\n",
    "\n",
    "Y_train = titanic_data_train.Survived.values\n",
    "\n"
   ]
  },
  {
   "cell_type": "code",
   "execution_count": 3,
   "id": "684dd78c",
   "metadata": {
    "execution": {
     "iopub.execute_input": "2022-08-31T10:02:44.776509Z",
     "iopub.status.busy": "2022-08-31T10:02:44.776133Z",
     "iopub.status.idle": "2022-08-31T10:02:46.141992Z",
     "shell.execute_reply": "2022-08-31T10:02:46.140636Z"
    },
    "papermill": {
     "duration": 1.373347,
     "end_time": "2022-08-31T10:02:46.144707",
     "exception": false,
     "start_time": "2022-08-31T10:02:44.771360",
     "status": "completed"
    },
    "tags": []
   },
   "outputs": [],
   "source": [
    "from sklearn.linear_model import LogisticRegression\n",
    "\n",
    "logis_train = LogisticRegression(random_state=0)\n",
    "\n",
    "logis_train.fit(X_train , Y_train)\n",
    "\n",
    "#Predict Ypredict based on X_test\n",
    "\n",
    "titanic_data_test = titanic_data_test.drop(['Pclass','PassengerId','Age','Ticket',], axis=1)\n",
    "\n",
    "\n",
    "#_predict = logis_train.predict(X_test)\n",
    "\n",
    "#_test\n",
    "\n"
   ]
  },
  {
   "cell_type": "code",
   "execution_count": 4,
   "id": "59667ee6",
   "metadata": {
    "execution": {
     "iopub.execute_input": "2022-08-31T10:02:46.154611Z",
     "iopub.status.busy": "2022-08-31T10:02:46.153619Z",
     "iopub.status.idle": "2022-08-31T10:02:46.159123Z",
     "shell.execute_reply": "2022-08-31T10:02:46.158355Z"
    },
    "papermill": {
     "duration": 0.012696,
     "end_time": "2022-08-31T10:02:46.161423",
     "exception": false,
     "start_time": "2022-08-31T10:02:46.148727",
     "status": "completed"
    },
    "tags": []
   },
   "outputs": [],
   "source": [
    "# Removing Unwanted Data\n",
    "\n",
    "titanic_data_test.Sex = [1 if each == 'male' else 0 for each in titanic_data_test.Sex] "
   ]
  },
  {
   "cell_type": "code",
   "execution_count": 5,
   "id": "5aea310e",
   "metadata": {
    "execution": {
     "iopub.execute_input": "2022-08-31T10:02:46.171088Z",
     "iopub.status.busy": "2022-08-31T10:02:46.170445Z",
     "iopub.status.idle": "2022-08-31T10:02:46.176554Z",
     "shell.execute_reply": "2022-08-31T10:02:46.175771Z"
    },
    "papermill": {
     "duration": 0.013276,
     "end_time": "2022-08-31T10:02:46.178691",
     "exception": false,
     "start_time": "2022-08-31T10:02:46.165415",
     "status": "completed"
    },
    "tags": []
   },
   "outputs": [],
   "source": [
    "titanic_data_test_dropall = titanic_data_test.drop(['Name','SibSp','Parch','Fare','Cabin'] , axis=1)"
   ]
  },
  {
   "cell_type": "code",
   "execution_count": 6,
   "id": "f3f6198f",
   "metadata": {
    "execution": {
     "iopub.execute_input": "2022-08-31T10:02:46.188147Z",
     "iopub.status.busy": "2022-08-31T10:02:46.187491Z",
     "iopub.status.idle": "2022-08-31T10:02:46.206619Z",
     "shell.execute_reply": "2022-08-31T10:02:46.205465Z"
    },
    "papermill": {
     "duration": 0.026343,
     "end_time": "2022-08-31T10:02:46.208877",
     "exception": false,
     "start_time": "2022-08-31T10:02:46.182534",
     "status": "completed"
    },
    "tags": []
   },
   "outputs": [
    {
     "data": {
      "text/html": [
       "<div>\n",
       "<style scoped>\n",
       "    .dataframe tbody tr th:only-of-type {\n",
       "        vertical-align: middle;\n",
       "    }\n",
       "\n",
       "    .dataframe tbody tr th {\n",
       "        vertical-align: top;\n",
       "    }\n",
       "\n",
       "    .dataframe thead th {\n",
       "        text-align: right;\n",
       "    }\n",
       "</style>\n",
       "<table border=\"1\" class=\"dataframe\">\n",
       "  <thead>\n",
       "    <tr style=\"text-align: right;\">\n",
       "      <th></th>\n",
       "      <th>Sex</th>\n",
       "      <th>Embarked</th>\n",
       "    </tr>\n",
       "  </thead>\n",
       "  <tbody>\n",
       "    <tr>\n",
       "      <th>0</th>\n",
       "      <td>1</td>\n",
       "      <td>Q</td>\n",
       "    </tr>\n",
       "    <tr>\n",
       "      <th>1</th>\n",
       "      <td>0</td>\n",
       "      <td>S</td>\n",
       "    </tr>\n",
       "    <tr>\n",
       "      <th>2</th>\n",
       "      <td>1</td>\n",
       "      <td>Q</td>\n",
       "    </tr>\n",
       "    <tr>\n",
       "      <th>3</th>\n",
       "      <td>1</td>\n",
       "      <td>S</td>\n",
       "    </tr>\n",
       "    <tr>\n",
       "      <th>4</th>\n",
       "      <td>0</td>\n",
       "      <td>S</td>\n",
       "    </tr>\n",
       "    <tr>\n",
       "      <th>...</th>\n",
       "      <td>...</td>\n",
       "      <td>...</td>\n",
       "    </tr>\n",
       "    <tr>\n",
       "      <th>413</th>\n",
       "      <td>1</td>\n",
       "      <td>S</td>\n",
       "    </tr>\n",
       "    <tr>\n",
       "      <th>414</th>\n",
       "      <td>0</td>\n",
       "      <td>C</td>\n",
       "    </tr>\n",
       "    <tr>\n",
       "      <th>415</th>\n",
       "      <td>1</td>\n",
       "      <td>S</td>\n",
       "    </tr>\n",
       "    <tr>\n",
       "      <th>416</th>\n",
       "      <td>1</td>\n",
       "      <td>S</td>\n",
       "    </tr>\n",
       "    <tr>\n",
       "      <th>417</th>\n",
       "      <td>1</td>\n",
       "      <td>C</td>\n",
       "    </tr>\n",
       "  </tbody>\n",
       "</table>\n",
       "<p>418 rows × 2 columns</p>\n",
       "</div>"
      ],
      "text/plain": [
       "     Sex Embarked\n",
       "0      1        Q\n",
       "1      0        S\n",
       "2      1        Q\n",
       "3      1        S\n",
       "4      0        S\n",
       "..   ...      ...\n",
       "413    1        S\n",
       "414    0        C\n",
       "415    1        S\n",
       "416    1        S\n",
       "417    1        C\n",
       "\n",
       "[418 rows x 2 columns]"
      ]
     },
     "execution_count": 6,
     "metadata": {},
     "output_type": "execute_result"
    }
   ],
   "source": [
    "titanic_data_test_dropall"
   ]
  },
  {
   "cell_type": "code",
   "execution_count": 7,
   "id": "3b45d6c8",
   "metadata": {
    "execution": {
     "iopub.execute_input": "2022-08-31T10:02:46.219067Z",
     "iopub.status.busy": "2022-08-31T10:02:46.218486Z",
     "iopub.status.idle": "2022-08-31T10:02:46.224176Z",
     "shell.execute_reply": "2022-08-31T10:02:46.223422Z"
    },
    "papermill": {
     "duration": 0.013208,
     "end_time": "2022-08-31T10:02:46.226297",
     "exception": false,
     "start_time": "2022-08-31T10:02:46.213089",
     "status": "completed"
    },
    "tags": []
   },
   "outputs": [],
   "source": [
    "X_test = titanic_data_test_dropall.drop(['Embarked'], axis=1)"
   ]
  },
  {
   "cell_type": "code",
   "execution_count": 8,
   "id": "e55bcf16",
   "metadata": {
    "execution": {
     "iopub.execute_input": "2022-08-31T10:02:46.236330Z",
     "iopub.status.busy": "2022-08-31T10:02:46.235663Z",
     "iopub.status.idle": "2022-08-31T10:02:46.241832Z",
     "shell.execute_reply": "2022-08-31T10:02:46.241105Z"
    },
    "papermill": {
     "duration": 0.013526,
     "end_time": "2022-08-31T10:02:46.243954",
     "exception": false,
     "start_time": "2022-08-31T10:02:46.230428",
     "status": "completed"
    },
    "tags": []
   },
   "outputs": [],
   "source": [
    "y_predict = logis_train.predict(X_test)"
   ]
  },
  {
   "cell_type": "code",
   "execution_count": 9,
   "id": "f3f66b00",
   "metadata": {
    "execution": {
     "iopub.execute_input": "2022-08-31T10:02:46.253812Z",
     "iopub.status.busy": "2022-08-31T10:02:46.253144Z",
     "iopub.status.idle": "2022-08-31T10:02:46.264103Z",
     "shell.execute_reply": "2022-08-31T10:02:46.263361Z"
    },
    "papermill": {
     "duration": 0.018305,
     "end_time": "2022-08-31T10:02:46.266314",
     "exception": false,
     "start_time": "2022-08-31T10:02:46.248009",
     "status": "completed"
    },
    "tags": []
   },
   "outputs": [],
   "source": [
    "Ytest_rawdata = pd.read_csv('/kaggle/input/titanic/gender_submission.csv')"
   ]
  },
  {
   "cell_type": "code",
   "execution_count": 10,
   "id": "5cb4086b",
   "metadata": {
    "execution": {
     "iopub.execute_input": "2022-08-31T10:02:46.276131Z",
     "iopub.status.busy": "2022-08-31T10:02:46.275798Z",
     "iopub.status.idle": "2022-08-31T10:02:46.281650Z",
     "shell.execute_reply": "2022-08-31T10:02:46.280543Z"
    },
    "papermill": {
     "duration": 0.01331,
     "end_time": "2022-08-31T10:02:46.283833",
     "exception": false,
     "start_time": "2022-08-31T10:02:46.270523",
     "status": "completed"
    },
    "tags": []
   },
   "outputs": [],
   "source": [
    "Y_test = Ytest_rawdata.drop(['PassengerId'], axis=1)"
   ]
  },
  {
   "cell_type": "code",
   "execution_count": 11,
   "id": "5e1d05fa",
   "metadata": {
    "execution": {
     "iopub.execute_input": "2022-08-31T10:02:46.293466Z",
     "iopub.status.busy": "2022-08-31T10:02:46.293010Z",
     "iopub.status.idle": "2022-08-31T10:02:46.299780Z",
     "shell.execute_reply": "2022-08-31T10:02:46.298531Z"
    },
    "papermill": {
     "duration": 0.014873,
     "end_time": "2022-08-31T10:02:46.302774",
     "exception": false,
     "start_time": "2022-08-31T10:02:46.287901",
     "status": "completed"
    },
    "tags": []
   },
   "outputs": [
    {
     "name": "stdout",
     "output_type": "stream",
     "text": [
      "1.0\n"
     ]
    }
   ],
   "source": [
    "#Find Accuracy\n",
    "\n",
    "from sklearn.metrics import accuracy_score\n",
    "\n",
    "Accuracy = accuracy_score(Y_test, y_predict)\n",
    "\n",
    "print(Accuracy)"
   ]
  },
  {
   "cell_type": "code",
   "execution_count": 12,
   "id": "99b378b9",
   "metadata": {
    "execution": {
     "iopub.execute_input": "2022-08-31T10:02:46.313165Z",
     "iopub.status.busy": "2022-08-31T10:02:46.312828Z",
     "iopub.status.idle": "2022-08-31T10:02:46.324057Z",
     "shell.execute_reply": "2022-08-31T10:02:46.322563Z"
    },
    "papermill": {
     "duration": 0.018864,
     "end_time": "2022-08-31T10:02:46.326329",
     "exception": false,
     "start_time": "2022-08-31T10:02:46.307465",
     "status": "completed"
    },
    "tags": []
   },
   "outputs": [
    {
     "name": "stdout",
     "output_type": "stream",
     "text": [
      "              precision    recall  f1-score   support\n",
      "\n",
      "           0       1.00      1.00      1.00       266\n",
      "           1       1.00      1.00      1.00       152\n",
      "\n",
      "    accuracy                           1.00       418\n",
      "   macro avg       1.00      1.00      1.00       418\n",
      "weighted avg       1.00      1.00      1.00       418\n",
      "\n"
     ]
    }
   ],
   "source": [
    "from sklearn.metrics import classification_report\n",
    "\n",
    "Cl_report = classification_report(Y_test , y_predict)\n",
    "\n",
    "print(Cl_report)"
   ]
  },
  {
   "cell_type": "code",
   "execution_count": null,
   "id": "a1653c8c",
   "metadata": {
    "papermill": {
     "duration": 0.003928,
     "end_time": "2022-08-31T10:02:46.334495",
     "exception": false,
     "start_time": "2022-08-31T10:02:46.330567",
     "status": "completed"
    },
    "tags": []
   },
   "outputs": [],
   "source": []
  }
 ],
 "metadata": {
  "kernelspec": {
   "display_name": "Python 3",
   "language": "python",
   "name": "python3"
  },
  "language_info": {
   "codemirror_mode": {
    "name": "ipython",
    "version": 3
   },
   "file_extension": ".py",
   "mimetype": "text/x-python",
   "name": "python",
   "nbconvert_exporter": "python",
   "pygments_lexer": "ipython3",
   "version": "3.7.12"
  },
  "papermill": {
   "default_parameters": {},
   "duration": 12.310039,
   "end_time": "2022-08-31T10:02:47.059991",
   "environment_variables": {},
   "exception": null,
   "input_path": "__notebook__.ipynb",
   "output_path": "__notebook__.ipynb",
   "parameters": {},
   "start_time": "2022-08-31T10:02:34.749952",
   "version": "2.3.4"
  }
 },
 "nbformat": 4,
 "nbformat_minor": 5
}
