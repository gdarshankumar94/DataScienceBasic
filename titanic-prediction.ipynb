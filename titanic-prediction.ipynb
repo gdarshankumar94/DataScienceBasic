{
 "cells": [
  {
   "cell_type": "code",
   "execution_count": 1,
   "id": "739ee781",
   "metadata": {
    "_cell_guid": "b1076dfc-b9ad-4769-8c92-a6c4dae69d19",
    "_uuid": "8f2839f25d086af736a60e9eeb907d3b93b6e0e5",
    "execution": {
     "iopub.execute_input": "2022-08-31T10:51:58.526687Z",
     "iopub.status.busy": "2022-08-31T10:51:58.525520Z",
     "iopub.status.idle": "2022-08-31T10:51:58.541986Z",
     "shell.execute_reply": "2022-08-31T10:51:58.541011Z"
    },
    "papermill": {
     "duration": 0.027885,
     "end_time": "2022-08-31T10:51:58.545399",
     "exception": false,
     "start_time": "2022-08-31T10:51:58.517514",
     "status": "completed"
    },
    "tags": []
   },
   "outputs": [
    {
     "name": "stdout",
     "output_type": "stream",
     "text": [
      "/kaggle/input/titanic/train.csv\n",
      "/kaggle/input/titanic/test.csv\n",
      "/kaggle/input/titanic/gender_submission.csv\n"
     ]
    }
   ],
   "source": [
    "# This Python 3 environment comes with many helpful analytics libraries installed\n",
    "# It is defined by the kaggle/python Docker image: https://github.com/kaggle/docker-python\n",
    "# For example, here's several helpful packages to load\n",
    "\n",
    "import numpy as np # linear algebra\n",
    "import pandas as pd # data processing, CSV file I/O (e.g. pd.read_csv)\n",
    "\n",
    "# Input data files are available in the read-only \"../input/\" directory\n",
    "# For example, running this (by clicking run or pressing Shift+Enter) will list all files under the input directory\n",
    "\n",
    "import os\n",
    "for dirname, _, filenames in os.walk('/kaggle/input'):\n",
    "    for filename in filenames:\n",
    "        print(os.path.join(dirname, filename))\n",
    "\n",
    "# You can write up to 20GB to the current directory (/kaggle/working/) that gets preserved as output when you create a version using \"Save & Run All\" \n",
    "# You can also write temporary files to /kaggle/temp/, but they won't be saved outside of the current session"
   ]
  },
  {
   "cell_type": "code",
   "execution_count": null,
   "id": "db0bbc57",
   "metadata": {
    "papermill": {
     "duration": 0.004673,
     "end_time": "2022-08-31T10:51:58.555348",
     "exception": false,
     "start_time": "2022-08-31T10:51:58.550675",
     "status": "completed"
    },
    "tags": []
   },
   "outputs": [],
   "source": []
  },
  {
   "cell_type": "code",
   "execution_count": 2,
   "id": "e689f2f9",
   "metadata": {
    "execution": {
     "iopub.execute_input": "2022-08-31T10:51:58.568011Z",
     "iopub.status.busy": "2022-08-31T10:51:58.567099Z",
     "iopub.status.idle": "2022-08-31T10:51:58.617016Z",
     "shell.execute_reply": "2022-08-31T10:51:58.615918Z"
    },
    "papermill": {
     "duration": 0.059468,
     "end_time": "2022-08-31T10:51:58.619814",
     "exception": false,
     "start_time": "2022-08-31T10:51:58.560346",
     "status": "completed"
    },
    "tags": []
   },
   "outputs": [],
   "source": [
    "# Data Collection Reading Testdata and Train Data\n",
    "\n",
    "titanic_data_train = pd.read_csv('/kaggle/input/titanic/train.csv')\n",
    "titanic_data_test = pd.read_csv('/kaggle/input/titanic/test.csv')\n",
    "\n",
    "\n",
    "# Data Analysis of Train Data\n",
    "\n",
    "titanic_data_train.head()\n",
    "\n",
    "\n",
    "#Data Wrangling Checking and Removing Unwanted Data and Null Values\n",
    "#PassengerID, Name , Ticket,Fare, Cabin , Cab be removed as Cabin has Null values\n",
    "#Out of 891 entries 687 have null values\n",
    "\n",
    "titanic_data_train['Cabin'].isnull().sum()\n",
    "\n",
    "titanic_data_train = titanic_data_train.drop(['Cabin','Name','Age','Ticket','Fare','Embarked','Pclass','SibSp','Parch','PassengerId'],axis=1)\n",
    "\n",
    "#titanic_data_train = pd.get_dummies(titanic_data_train,columns=['Sex'])\n",
    "\n",
    "\n",
    "titanic_data_train.Sex = [ 1 if each == 'male' else 0 for each in titanic_data_train.Sex]\n",
    "\n",
    "X_train = titanic_data_train.drop(['Survived'], axis=1)\n",
    "\n",
    "Y_train = titanic_data_train.Survived.values\n",
    "\n"
   ]
  },
  {
   "cell_type": "code",
   "execution_count": 3,
   "id": "08bc87b1",
   "metadata": {
    "execution": {
     "iopub.execute_input": "2022-08-31T10:51:58.632460Z",
     "iopub.status.busy": "2022-08-31T10:51:58.631562Z",
     "iopub.status.idle": "2022-08-31T10:51:59.944333Z",
     "shell.execute_reply": "2022-08-31T10:51:59.943047Z"
    },
    "papermill": {
     "duration": 1.322576,
     "end_time": "2022-08-31T10:51:59.947477",
     "exception": false,
     "start_time": "2022-08-31T10:51:58.624901",
     "status": "completed"
    },
    "tags": []
   },
   "outputs": [],
   "source": [
    "from sklearn.linear_model import LogisticRegression\n",
    "\n",
    "logis_train = LogisticRegression(random_state=0)\n",
    "\n",
    "logis_train.fit(X_train , Y_train)\n",
    "\n",
    "#Predict Ypredict based on X_test\n",
    "\n",
    "titanic_data_test = titanic_data_test.drop(['Pclass','PassengerId','Age','Ticket',], axis=1)\n",
    "\n",
    "\n",
    "#_predict = logis_train.predict(X_test)\n",
    "\n",
    "#_test\n",
    "\n"
   ]
  },
  {
   "cell_type": "code",
   "execution_count": 4,
   "id": "50f20169",
   "metadata": {
    "execution": {
     "iopub.execute_input": "2022-08-31T10:51:59.960110Z",
     "iopub.status.busy": "2022-08-31T10:51:59.959282Z",
     "iopub.status.idle": "2022-08-31T10:51:59.965558Z",
     "shell.execute_reply": "2022-08-31T10:51:59.964498Z"
    },
    "papermill": {
     "duration": 0.015752,
     "end_time": "2022-08-31T10:51:59.968359",
     "exception": false,
     "start_time": "2022-08-31T10:51:59.952607",
     "status": "completed"
    },
    "tags": []
   },
   "outputs": [],
   "source": [
    "# Removing Unwanted Data\n",
    "\n",
    "titanic_data_test.Sex = [1 if each == 'male' else 0 for each in titanic_data_test.Sex] "
   ]
  },
  {
   "cell_type": "code",
   "execution_count": 5,
   "id": "b0f3a5ae",
   "metadata": {
    "execution": {
     "iopub.execute_input": "2022-08-31T10:51:59.981217Z",
     "iopub.status.busy": "2022-08-31T10:51:59.980363Z",
     "iopub.status.idle": "2022-08-31T10:51:59.987545Z",
     "shell.execute_reply": "2022-08-31T10:51:59.986406Z"
    },
    "papermill": {
     "duration": 0.016882,
     "end_time": "2022-08-31T10:51:59.990385",
     "exception": false,
     "start_time": "2022-08-31T10:51:59.973503",
     "status": "completed"
    },
    "tags": []
   },
   "outputs": [],
   "source": [
    "titanic_data_test_dropall = titanic_data_test.drop(['Name','SibSp','Parch','Fare','Cabin'] , axis=1)"
   ]
  },
  {
   "cell_type": "code",
   "execution_count": 6,
   "id": "06c7aa0a",
   "metadata": {
    "execution": {
     "iopub.execute_input": "2022-08-31T10:52:00.003537Z",
     "iopub.status.busy": "2022-08-31T10:52:00.002671Z",
     "iopub.status.idle": "2022-08-31T10:52:00.024707Z",
     "shell.execute_reply": "2022-08-31T10:52:00.023432Z"
    },
    "papermill": {
     "duration": 0.032196,
     "end_time": "2022-08-31T10:52:00.027771",
     "exception": false,
     "start_time": "2022-08-31T10:51:59.995575",
     "status": "completed"
    },
    "tags": []
   },
   "outputs": [
    {
     "data": {
      "text/html": [
       "<div>\n",
       "<style scoped>\n",
       "    .dataframe tbody tr th:only-of-type {\n",
       "        vertical-align: middle;\n",
       "    }\n",
       "\n",
       "    .dataframe tbody tr th {\n",
       "        vertical-align: top;\n",
       "    }\n",
       "\n",
       "    .dataframe thead th {\n",
       "        text-align: right;\n",
       "    }\n",
       "</style>\n",
       "<table border=\"1\" class=\"dataframe\">\n",
       "  <thead>\n",
       "    <tr style=\"text-align: right;\">\n",
       "      <th></th>\n",
       "      <th>Sex</th>\n",
       "      <th>Embarked</th>\n",
       "    </tr>\n",
       "  </thead>\n",
       "  <tbody>\n",
       "    <tr>\n",
       "      <th>0</th>\n",
       "      <td>1</td>\n",
       "      <td>Q</td>\n",
       "    </tr>\n",
       "    <tr>\n",
       "      <th>1</th>\n",
       "      <td>0</td>\n",
       "      <td>S</td>\n",
       "    </tr>\n",
       "    <tr>\n",
       "      <th>2</th>\n",
       "      <td>1</td>\n",
       "      <td>Q</td>\n",
       "    </tr>\n",
       "    <tr>\n",
       "      <th>3</th>\n",
       "      <td>1</td>\n",
       "      <td>S</td>\n",
       "    </tr>\n",
       "    <tr>\n",
       "      <th>4</th>\n",
       "      <td>0</td>\n",
       "      <td>S</td>\n",
       "    </tr>\n",
       "    <tr>\n",
       "      <th>...</th>\n",
       "      <td>...</td>\n",
       "      <td>...</td>\n",
       "    </tr>\n",
       "    <tr>\n",
       "      <th>413</th>\n",
       "      <td>1</td>\n",
       "      <td>S</td>\n",
       "    </tr>\n",
       "    <tr>\n",
       "      <th>414</th>\n",
       "      <td>0</td>\n",
       "      <td>C</td>\n",
       "    </tr>\n",
       "    <tr>\n",
       "      <th>415</th>\n",
       "      <td>1</td>\n",
       "      <td>S</td>\n",
       "    </tr>\n",
       "    <tr>\n",
       "      <th>416</th>\n",
       "      <td>1</td>\n",
       "      <td>S</td>\n",
       "    </tr>\n",
       "    <tr>\n",
       "      <th>417</th>\n",
       "      <td>1</td>\n",
       "      <td>C</td>\n",
       "    </tr>\n",
       "  </tbody>\n",
       "</table>\n",
       "<p>418 rows × 2 columns</p>\n",
       "</div>"
      ],
      "text/plain": [
       "     Sex Embarked\n",
       "0      1        Q\n",
       "1      0        S\n",
       "2      1        Q\n",
       "3      1        S\n",
       "4      0        S\n",
       "..   ...      ...\n",
       "413    1        S\n",
       "414    0        C\n",
       "415    1        S\n",
       "416    1        S\n",
       "417    1        C\n",
       "\n",
       "[418 rows x 2 columns]"
      ]
     },
     "execution_count": 6,
     "metadata": {},
     "output_type": "execute_result"
    }
   ],
   "source": [
    "titanic_data_test_dropall"
   ]
  },
  {
   "cell_type": "code",
   "execution_count": 7,
   "id": "a767e0fc",
   "metadata": {
    "execution": {
     "iopub.execute_input": "2022-08-31T10:52:00.041324Z",
     "iopub.status.busy": "2022-08-31T10:52:00.040408Z",
     "iopub.status.idle": "2022-08-31T10:52:00.047626Z",
     "shell.execute_reply": "2022-08-31T10:52:00.046399Z"
    },
    "papermill": {
     "duration": 0.016839,
     "end_time": "2022-08-31T10:52:00.050314",
     "exception": false,
     "start_time": "2022-08-31T10:52:00.033475",
     "status": "completed"
    },
    "tags": []
   },
   "outputs": [],
   "source": [
    "X_test = titanic_data_test_dropall.drop(['Embarked'], axis=1)"
   ]
  },
  {
   "cell_type": "code",
   "execution_count": 8,
   "id": "611c9061",
   "metadata": {
    "execution": {
     "iopub.execute_input": "2022-08-31T10:52:00.063495Z",
     "iopub.status.busy": "2022-08-31T10:52:00.062620Z",
     "iopub.status.idle": "2022-08-31T10:52:00.069736Z",
     "shell.execute_reply": "2022-08-31T10:52:00.068747Z"
    },
    "papermill": {
     "duration": 0.016524,
     "end_time": "2022-08-31T10:52:00.072093",
     "exception": false,
     "start_time": "2022-08-31T10:52:00.055569",
     "status": "completed"
    },
    "tags": []
   },
   "outputs": [],
   "source": [
    "y_predict = logis_train.predict(X_test)"
   ]
  },
  {
   "cell_type": "code",
   "execution_count": 9,
   "id": "bad5c4dc",
   "metadata": {
    "execution": {
     "iopub.execute_input": "2022-08-31T10:52:00.085071Z",
     "iopub.status.busy": "2022-08-31T10:52:00.083866Z",
     "iopub.status.idle": "2022-08-31T10:52:00.096301Z",
     "shell.execute_reply": "2022-08-31T10:52:00.095194Z"
    },
    "papermill": {
     "duration": 0.021774,
     "end_time": "2022-08-31T10:52:00.099032",
     "exception": false,
     "start_time": "2022-08-31T10:52:00.077258",
     "status": "completed"
    },
    "tags": []
   },
   "outputs": [],
   "source": [
    "Ytest_rawdata = pd.read_csv('/kaggle/input/titanic/gender_submission.csv')"
   ]
  },
  {
   "cell_type": "code",
   "execution_count": 10,
   "id": "a5668645",
   "metadata": {
    "execution": {
     "iopub.execute_input": "2022-08-31T10:52:00.112243Z",
     "iopub.status.busy": "2022-08-31T10:52:00.111299Z",
     "iopub.status.idle": "2022-08-31T10:52:00.117963Z",
     "shell.execute_reply": "2022-08-31T10:52:00.117028Z"
    },
    "papermill": {
     "duration": 0.016277,
     "end_time": "2022-08-31T10:52:00.120576",
     "exception": false,
     "start_time": "2022-08-31T10:52:00.104299",
     "status": "completed"
    },
    "tags": []
   },
   "outputs": [],
   "source": [
    "Y_test = Ytest_rawdata.drop(['PassengerId'], axis=1)"
   ]
  },
  {
   "cell_type": "code",
   "execution_count": 11,
   "id": "fafb1745",
   "metadata": {
    "execution": {
     "iopub.execute_input": "2022-08-31T10:52:00.133976Z",
     "iopub.status.busy": "2022-08-31T10:52:00.133083Z",
     "iopub.status.idle": "2022-08-31T10:52:00.140790Z",
     "shell.execute_reply": "2022-08-31T10:52:00.139154Z"
    },
    "papermill": {
     "duration": 0.01742,
     "end_time": "2022-08-31T10:52:00.143485",
     "exception": false,
     "start_time": "2022-08-31T10:52:00.126065",
     "status": "completed"
    },
    "tags": []
   },
   "outputs": [
    {
     "name": "stdout",
     "output_type": "stream",
     "text": [
      "1.0\n"
     ]
    }
   ],
   "source": [
    "#Find Accuracy\n",
    "\n",
    "from sklearn.metrics import accuracy_score\n",
    "\n",
    "Accuracy = accuracy_score(Y_test, y_predict)\n",
    "\n",
    "print(Accuracy)"
   ]
  },
  {
   "cell_type": "code",
   "execution_count": 12,
   "id": "363f1838",
   "metadata": {
    "execution": {
     "iopub.execute_input": "2022-08-31T10:52:00.156487Z",
     "iopub.status.busy": "2022-08-31T10:52:00.155653Z",
     "iopub.status.idle": "2022-08-31T10:52:00.168142Z",
     "shell.execute_reply": "2022-08-31T10:52:00.166214Z"
    },
    "papermill": {
     "duration": 0.022497,
     "end_time": "2022-08-31T10:52:00.171324",
     "exception": false,
     "start_time": "2022-08-31T10:52:00.148827",
     "status": "completed"
    },
    "tags": []
   },
   "outputs": [
    {
     "name": "stdout",
     "output_type": "stream",
     "text": [
      "              precision    recall  f1-score   support\n",
      "\n",
      "           0       1.00      1.00      1.00       266\n",
      "           1       1.00      1.00      1.00       152\n",
      "\n",
      "    accuracy                           1.00       418\n",
      "   macro avg       1.00      1.00      1.00       418\n",
      "weighted avg       1.00      1.00      1.00       418\n",
      "\n"
     ]
    }
   ],
   "source": [
    "from sklearn.metrics import classification_report\n",
    "\n",
    "Cl_report = classification_report(Y_test , y_predict)\n",
    "\n",
    "print(Cl_report)"
   ]
  },
  {
   "cell_type": "code",
   "execution_count": 13,
   "id": "df14abd0",
   "metadata": {
    "execution": {
     "iopub.execute_input": "2022-08-31T10:52:00.185056Z",
     "iopub.status.busy": "2022-08-31T10:52:00.183761Z",
     "iopub.status.idle": "2022-08-31T10:52:00.419965Z",
     "shell.execute_reply": "2022-08-31T10:52:00.418674Z"
    },
    "papermill": {
     "duration": 0.246377,
     "end_time": "2022-08-31T10:52:00.423105",
     "exception": false,
     "start_time": "2022-08-31T10:52:00.176728",
     "status": "completed"
    },
    "tags": []
   },
   "outputs": [
    {
     "data": {
      "text/plain": [
       "[<matplotlib.lines.Line2D at 0x7f92ccce0e10>]"
      ]
     },
     "execution_count": 13,
     "metadata": {},
     "output_type": "execute_result"
    },
    {
     "data": {
      "image/png": "[encoded data removed]",
      "text/plain": [
       "<Figure size 432x288 with 1 Axes>"
      ]
     },
     "metadata": {
      "needs_background": "light"
     },
     "output_type": "display_data"
    }
   ],
   "source": [
    "#Visualization of Training set v/s Predicted and Teting Set\n",
    "\n",
    "import matplotlib.pyplot as plt\n",
    "%matplotlib inline\n",
    "\n",
    "plt.plot(X_test , Y_test)"
   ]
  },
  {
   "cell_type": "code",
   "execution_count": 14,
   "id": "f248254e",
   "metadata": {
    "execution": {
     "iopub.execute_input": "2022-08-31T10:52:00.437265Z",
     "iopub.status.busy": "2022-08-31T10:52:00.436774Z",
     "iopub.status.idle": "2022-08-31T10:52:00.658858Z",
     "shell.execute_reply": "2022-08-31T10:52:00.657540Z"
    },
    "papermill": {
     "duration": 0.232489,
     "end_time": "2022-08-31T10:52:00.661705",
     "exception": false,
     "start_time": "2022-08-31T10:52:00.429216",
     "status": "completed"
    },
    "tags": []
   },
   "outputs": [
    {
     "data": {
      "text/plain": [
       "[<matplotlib.lines.Line2D at 0x7f92ccbfd490>]"
      ]
     },
     "execution_count": 14,
     "metadata": {},
     "output_type": "execute_result"
    },
    {
     "data": {
      "image/png": "[encoded data removed]",
      "text/plain": [
       "<Figure size 432x288 with 1 Axes>"
      ]
     },
     "metadata": {
      "needs_background": "light"
     },
     "output_type": "display_data"
    }
   ],
   "source": [
    "plt.plot(X_test,y_predict)"
   ]
  },
  {
   "cell_type": "code",
   "execution_count": null,
   "id": "64fe0c79",
   "metadata": {
    "papermill": {
     "duration": 0.00566,
     "end_time": "2022-08-31T10:52:00.673598",
     "exception": false,
     "start_time": "2022-08-31T10:52:00.667938",
     "status": "completed"
    },
    "tags": []
   },
   "outputs": [],
   "source": []
  },
  {
   "cell_type": "code",
   "execution_count": null,
   "id": "e30d500b",
   "metadata": {
    "papermill": {
     "duration": 0.00581,
     "end_time": "2022-08-31T10:52:00.685446",
     "exception": false,
     "start_time": "2022-08-31T10:52:00.679636",
     "status": "completed"
    },
    "tags": []
   },
   "outputs": [],
   "source": []
  }
 ],
 "metadata": {
  "kernelspec": {
   "display_name": "Python 3",
   "language": "python",
   "name": "python3"
  },
  "language_info": {
   "codemirror_mode": {
    "name": "ipython",
    "version": 3
   },
   "file_extension": ".py",
   "mimetype": "text/x-python",
   "name": "python",
   "nbconvert_exporter": "python",
   "pygments_lexer": "ipython3",
   "version": "3.7.12"
  },
  "papermill": {
   "default_parameters": {},
   "duration": 14.287595,
   "end_time": "2022-08-31T10:52:01.716659",
   "environment_variables": {},
   "exception": null,
   "input_path": "__notebook__.ipynb",
   "output_path": "__notebook__.ipynb",
   "parameters": {},
   "start_time": "2022-08-31T10:51:47.429064",
   "version": "2.3.4"
  }
 },
 "nbformat": 4,
 "nbformat_minor": 5
}
